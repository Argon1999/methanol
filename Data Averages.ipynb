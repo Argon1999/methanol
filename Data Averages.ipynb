{
 "cells": [
  {
   "cell_type": "code",
   "execution_count": 110,
   "metadata": {},
   "outputs": [],
   "source": [
    "import numpy as np\n",
    "from matplotlib import pyplot\n",
    "%matplotlib inline\n",
    "data = np.genfromtxt(fname='275K/analyze.log', skip_header=True);"
   ]
  },
  {
   "cell_type": "code",
   "execution_count": 112,
   "metadata": {},
   "outputs": [],
   "source": [
    "vol = np.average(data[300:,8])"
   ]
  },
  {
   "cell_type": "code",
   "execution_count": 113,
   "metadata": {},
   "outputs": [
    {
     "name": "stdout",
     "output_type": "stream",
     "text": [
      "127.91617302842859\n"
     ]
    }
   ],
   "source": [
    "print(vol)"
   ]
  },
  {
   "cell_type": "code",
   "execution_count": 117,
   "metadata": {},
   "outputs": [
    {
     "name": "stdout",
     "output_type": "stream",
     "text": [
      "132.01665887812499\n"
     ]
    }
   ],
   "source": [
    "data = np.genfromtxt(fname='300K/analyze.log', skip_header=True);\n",
    "vol = np.average(data[200:,8])\n",
    "print(vol)"
   ]
  },
  {
   "cell_type": "code",
   "execution_count": 119,
   "metadata": {},
   "outputs": [
    {
     "name": "stdout",
     "output_type": "stream",
     "text": [
      "135.34803068975\n"
     ]
    }
   ],
   "source": [
    "data = np.genfromtxt(fname='325K/analyze.log', skip_header=True);\n",
    "vol = np.average(data[200:,8])\n",
    "print(vol)"
   ]
  },
  {
   "cell_type": "code",
   "execution_count": 120,
   "metadata": {},
   "outputs": [
    {
     "name": "stdout",
     "output_type": "stream",
     "text": [
      "145.09391119694118\n"
     ]
    }
   ],
   "source": [
    "data = np.genfromtxt(fname='375K/analyze.log', skip_header=True);\n",
    "vol = np.average(data[150:,8])\n",
    "print(vol)"
   ]
  },
  {
   "cell_type": "code",
   "execution_count": 107,
   "metadata": {},
   "outputs": [
    {
     "name": "stdout",
     "output_type": "stream",
     "text": [
      "158.6462880042353\n"
     ]
    }
   ],
   "source": [
    "data = np.genfromtxt(fname='425K/425K/analyze.log', skip_header=True);\n",
    "vol = np.average(data[150:,8])\n",
    "print(vol)"
   ]
  },
  {
   "cell_type": "code",
   "execution_count": 121,
   "metadata": {},
   "outputs": [
    {
     "name": "stdout",
     "output_type": "stream",
     "text": [
      "182.54543869319997\n"
     ]
    }
   ],
   "source": [
    "data = np.genfromtxt(fname='475K/analyze.log', skip_header=True);\n",
    "vol = np.average(data[250:,8])\n",
    "print(vol)"
   ]
  },
  {
   "cell_type": "code",
   "execution_count": null,
   "metadata": {},
   "outputs": [],
   "source": []
  }
 ],
 "metadata": {
  "kernelspec": {
   "display_name": "Python 3",
   "language": "python",
   "name": "python3"
  },
  "language_info": {
   "codemirror_mode": {
    "name": "ipython",
    "version": 3
   },
   "file_extension": ".py",
   "mimetype": "text/x-python",
   "name": "python",
   "nbconvert_exporter": "python",
   "pygments_lexer": "ipython3",
   "version": "3.6.7"
  }
 },
 "nbformat": 4,
 "nbformat_minor": 2
}